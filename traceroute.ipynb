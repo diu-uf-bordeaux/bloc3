{
  "nbformat": 4,
  "nbformat_minor": 0,
  "metadata": {
    "colab": {
      "name": "traceroute.ipynb",
      "provenance": [],
      "collapsed_sections": [],
      "include_colab_link": true
    },
    "kernelspec": {
      "name": "python3",
      "display_name": "Python 3"
    }
  },
  "cells": [
    {
      "cell_type": "markdown",
      "metadata": {
        "id": "view-in-github",
        "colab_type": "text"
      },
      "source": [
        "<a href=\"https://colab.research.google.com/github/orel33/bloc3/blob/master/traceroute.ipynb\" target=\"_parent\"><img src=\"https://colab.research.google.com/assets/colab-badge.svg\" alt=\"Open In Colab\"/></a>"
      ]
    },
    {
      "cell_type": "markdown",
      "metadata": {
        "id": "RshF1sUCcAWa",
        "colab_type": "text"
      },
      "source": [
        "# Traceroute\n",
        "\n",
        "## Intro Musicale (ou pas)\n",
        "\n",
        "https://www.youtube.com/watch?v=U-Z_bZS8t3M\n",
        "\n",
        "## Prérequis"
      ]
    },
    {
      "cell_type": "code",
      "metadata": {
        "id": "1n6kBUEm2W1b",
        "colab_type": "code",
        "outputId": "3b5265fb-f478-45f6-9ab7-19a409215c66",
        "colab": {
          "base_uri": "https://localhost:8080/",
          "height": 357
        }
      },
      "source": [
        "! apt-get -q -y install net-tools        # ifconfig \n",
        "! apt-get -q -y install dnsutils         # nslookup\n",
        "! apt-get -q -y install traceroute       # traceroute\n",
        "! apt-get -q -y install python3-scapy    # scapy"
      ],
      "execution_count": 0,
      "outputs": [
        {
          "output_type": "stream",
          "text": [
            "Reading package lists...\n",
            "Building dependency tree...\n",
            "Reading state information...\n",
            "net-tools is already the newest version (1.60+git20161116.90da8a0-1ubuntu1).\n",
            "0 upgraded, 0 newly installed, 0 to remove and 35 not upgraded.\n",
            "Reading package lists...\n",
            "Building dependency tree...\n",
            "Reading state information...\n",
            "dnsutils is already the newest version (1:9.11.3+dfsg-1ubuntu1.10).\n",
            "0 upgraded, 0 newly installed, 0 to remove and 35 not upgraded.\n",
            "Reading package lists...\n",
            "Building dependency tree...\n",
            "Reading state information...\n",
            "traceroute is already the newest version (1:2.1.0-2).\n",
            "0 upgraded, 0 newly installed, 0 to remove and 35 not upgraded.\n",
            "Reading package lists...\n",
            "Building dependency tree...\n",
            "Reading state information...\n",
            "python3-scapy is already the newest version (0.23-1).\n",
            "0 upgraded, 0 newly installed, 0 to remove and 35 not upgraded.\n"
          ],
          "name": "stdout"
        }
      ]
    },
    {
      "cell_type": "markdown",
      "metadata": {
        "id": "heezwi7Jb714",
        "colab_type": "text"
      },
      "source": [
        "## Qui suis-je ?"
      ]
    },
    {
      "cell_type": "code",
      "metadata": {
        "id": "JjNQMOdeZ7ef",
        "colab_type": "code",
        "outputId": "16150e2d-73b8-437e-e84b-bab7b1f31157",
        "colab": {
          "base_uri": "https://localhost:8080/",
          "height": 289
        }
      },
      "source": [
        "! ifconfig"
      ],
      "execution_count": 0,
      "outputs": [
        {
          "output_type": "stream",
          "text": [
            "eth0: flags=4163<UP,BROADCAST,RUNNING,MULTICAST>  mtu 1500\n",
            "        inet 172.28.0.2  netmask 255.255.0.0  broadcast 172.28.255.255\n",
            "        ether 02:42:ac:1c:00:02  txqueuelen 0  (Ethernet)\n",
            "        RX packets 17535  bytes 9226942 (9.2 MB)\n",
            "        RX errors 0  dropped 0  overruns 0  frame 0\n",
            "        TX packets 16004  bytes 3873901 (3.8 MB)\n",
            "        TX errors 0  dropped 0 overruns 0  carrier 0  collisions 0\n",
            "\n",
            "lo: flags=73<UP,LOOPBACK,RUNNING>  mtu 65536\n",
            "        inet 127.0.0.1  netmask 255.0.0.0\n",
            "        loop  txqueuelen 1000  (Local Loopback)\n",
            "        RX packets 3721  bytes 1190041 (1.1 MB)\n",
            "        RX errors 0  dropped 0  overruns 0  frame 0\n",
            "        TX packets 3721  bytes 1190041 (1.1 MB)\n",
            "        TX errors 0  dropped 0 overruns 0  carrier 0  collisions 0\n",
            "\n"
          ],
          "name": "stdout"
        }
      ]
    },
    {
      "cell_type": "markdown",
      "metadata": {
        "id": "AZ2R4Dr5cOY2",
        "colab_type": "text"
      },
      "source": [
        "## Où vais-je ?"
      ]
    },
    {
      "cell_type": "code",
      "metadata": {
        "id": "oGVpk5wfZA17",
        "colab_type": "code",
        "outputId": "d69892cb-ae44-4128-f851-3592981db8e6",
        "colab": {
          "base_uri": "https://localhost:8080/",
          "height": 136
        }
      },
      "source": [
        "! nslookup www.perdu.com"
      ],
      "execution_count": 0,
      "outputs": [
        {
          "output_type": "stream",
          "text": [
            "Server:\t\t127.0.0.11\n",
            "Address:\t127.0.0.11#53\n",
            "\n",
            "Non-authoritative answer:\n",
            "Name:\twww.perdu.com\n",
            "Address: 208.97.177.124\n",
            "\n"
          ],
          "name": "stdout"
        }
      ]
    },
    {
      "cell_type": "markdown",
      "metadata": {
        "id": "UV5GCkFYa1we",
        "colab_type": "text"
      },
      "source": [
        "## Traceroute (commande Unix)"
      ]
    },
    {
      "cell_type": "code",
      "metadata": {
        "id": "v9M-3eWV4mLa",
        "colab_type": "code",
        "outputId": "d674425c-8290-4be0-a05a-13f9f0d3b139",
        "colab": {
          "base_uri": "https://localhost:8080/",
          "height": 238
        }
      },
      "source": [
        "! traceroute -I -4 -n www.perdu.com"
      ],
      "execution_count": 0,
      "outputs": [
        {
          "output_type": "stream",
          "text": [
            "traceroute to www.perdu.com (208.97.177.124), 30 hops max, 60 byte packets\n",
            " 1  172.28.0.1  0.033 ms  0.007 ms  0.005 ms\n",
            " 2  216.239.54.115  27.614 ms  27.639 ms  27.637 ms\n",
            " 3  209.85.252.121  14.399 ms  14.398 ms  14.389 ms\n",
            " 4  172.253.65.166  82.096 ms  82.097 ms  82.095 ms\n",
            " 5  209.85.254.238  84.463 ms  84.620 ms  84.647 ms\n",
            " 6  108.170.248.4  85.342 ms  85.286 ms  85.279 ms\n",
            " 7  205.197.230.37  82.461 ms  81.015 ms  80.993 ms\n",
            " 8  207.88.13.113  87.632 ms  87.729 ms  87.698 ms\n",
            " 9  209.48.43.58  88.657 ms  88.220 ms  88.184 ms\n",
            "10  208.113.156.4  90.053 ms  90.169 ms  89.039 ms\n",
            "11  208.113.156.14  90.436 ms  90.419 ms  92.542 ms\n",
            "12  208.97.177.124  87.786 ms  87.786 ms  87.787 ms\n"
          ],
          "name": "stdout"
        }
      ]
    },
    {
      "cell_type": "markdown",
      "metadata": {
        "id": "HVRW2EEwdMpC",
        "colab_type": "text"
      },
      "source": [
        "## Comment ça marche ?\n",
        "\n",
        "Chaque paquet IP a une durée de vie initiale maximum, le champs TTL (Time To Leave), qui est décrémenté au passage de chaque routeur. Lorsque le TTL atteint 0, le routeur jette le paquet à la poubelle et émet un paquet ICMP d'erreur *Time to live exceeded* vers la source. \n",
        "\n",
        "* A quoi ça sert ?\n",
        "* En déduire ainsi un moyen de découvrir les routeurs intermédiaires de proche en proche.\n",
        "\n",
        "=> https://fr.wikipedia.org/wiki/Traceroute\n",
        "\n"
      ]
    },
    {
      "cell_type": "markdown",
      "metadata": {
        "id": "I47UBjhpbYEK",
        "colab_type": "text"
      },
      "source": [
        "## Version Python/Scapy\n",
        "\n",
        "=> https://scapy.readthedocs.io/en/latest/usage.html\n",
        "\n",
        "Privilège *root* requis."
      ]
    },
    {
      "cell_type": "code",
      "metadata": {
        "id": "peoYdHeB5iV4",
        "colab_type": "code",
        "outputId": "3dfd9c1e-e918-4f28-f943-dfd860737c85",
        "colab": {
          "base_uri": "https://localhost:8080/",
          "height": 221
        }
      },
      "source": [
        "from scapy.all import *\n",
        "\n",
        "def mytraceroute(target, maxttl):\n",
        "    for k in range(1, maxttl):\n",
        "        x = IP(version=4, dst=target, ttl=k)/ICMP()\n",
        "        y = sr1(x, verbose=0)\n",
        "        if y.getlayer(ICMP).type == 11 and y.getlayer(ICMP).code == 0:    # time to leave exceeded (11)\n",
        "            print(k, y.src)\n",
        "        elif y.getlayer(ICMP).type == 0 and y.getlayer(ICMP).code == 0:   # echo-reply (0)\n",
        "            print(k, y.src)\n",
        "            break\n",
        "        else:\n",
        "            print(k, \"* * *\")\n",
        "\n",
        "\n",
        "mytraceroute(\"www.perdu.com\", 64)"
      ],
      "execution_count": 0,
      "outputs": [
        {
          "output_type": "stream",
          "text": [
            "1 172.28.0.1\n",
            "2 216.239.54.115\n",
            "3 209.85.252.121\n",
            "4 172.253.65.166\n",
            "5 209.85.254.238\n",
            "6 108.170.248.4\n",
            "7 205.197.230.37\n",
            "8 207.88.13.113\n",
            "9 209.48.43.58\n",
            "10 208.113.156.4\n",
            "11 208.113.156.14\n",
            "12 208.97.177.124\n"
          ],
          "name": "stdout"
        }
      ]
    }
  ]
}