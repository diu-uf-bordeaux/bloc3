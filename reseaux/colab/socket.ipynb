{
  "nbformat": 4,
  "nbformat_minor": 0,
  "metadata": {
    "colab": {
      "name": "socket.ipynb",
      "provenance": [],
      "collapsed_sections": [],
      "include_colab_link": true
    },
    "kernelspec": {
      "name": "python3",
      "display_name": "Python 3"
    }
  },
  "cells": [
    {
      "cell_type": "markdown",
      "metadata": {
        "id": "view-in-github",
        "colab_type": "text"
      },
      "source": [
        "<a href=\"https://colab.research.google.com/github/orel33/bloc3/blob/master/reseaux/colab/socket.ipynb\" target=\"_parent\"><img src=\"https://colab.research.google.com/assets/colab-badge.svg\" alt=\"Open In Colab\"/></a>"
      ]
    },
    {
      "cell_type": "markdown",
      "metadata": {
        "id": "rAbyuBTM0-mH",
        "colab_type": "text"
      },
      "source": [
        "# Les Sockets en Python\n",
        "\n",
        "Ou comment programmer des applications réseaux TCP/IP, avec l'exemple du web (protocole HTTP)."
      ]
    },
    {
      "cell_type": "markdown",
      "metadata": {
        "id": "MRQWTXoq49Jt",
        "colab_type": "text"
      },
      "source": [
        "## Avant Propos\n",
        "\n",
        "* Socket : https://docs.python.org/3/library/socket.html\n",
        "* HTTP : https://fr.wikipedia.org/wiki/Hypertext_Transfer_Protocol\n",
        "* Tips : http://aurelien.esnard.emi.u-bordeaux.fr/teaching/doku.php?id=rx3:index\n",
        "* Cours Moodle DIU : https://moodle1.u-bordeaux.fr/course/view.php?id=4713"
      ]
    },
    {
      "cell_type": "markdown",
      "metadata": {
        "colab_type": "text",
        "id": "2FrMNTkjBvPY"
      },
      "source": [
        "## Comprendre le protocole du Web (HTTP)\n",
        "\n",
        "Avec Wireshark, vérifez que vous comprenez tout de la capture ci-dessous :\n",
        "\n",
        "=> https://github.com/diu-uf-bordeaux/bloc3/raw/master/reseaux/trace/http.pcap\n",
        "\n",
        "Plus d'info sur le cours Moodle :  https://moodle1.u-bordeaux.fr/course/view.php?id=4713\n"
      ]
    },
    {
      "cell_type": "markdown",
      "metadata": {
        "id": "3dNQI7a79vKo",
        "colab_type": "text"
      },
      "source": [
        "## Prérequis"
      ]
    },
    {
      "cell_type": "code",
      "metadata": {
        "id": "bvmBkESn90WR",
        "colab_type": "code",
        "outputId": "c7501746-4f9c-47ef-ef3a-8e113f0aed93",
        "colab": {
          "base_uri": "https://localhost:8080/",
          "height": 425
        }
      },
      "source": [
        "! apt-get -q -y install netcat"
      ],
      "execution_count": 0,
      "outputs": [
        {
          "output_type": "stream",
          "text": [
            "Reading package lists...\n",
            "Building dependency tree...\n",
            "Reading state information...\n",
            "The following additional packages will be installed:\n",
            "  netcat-traditional\n",
            "The following NEW packages will be installed:\n",
            "  netcat netcat-traditional\n",
            "0 upgraded, 2 newly installed, 0 to remove and 35 not upgraded.\n",
            "Need to get 65.1 kB of archives.\n",
            "After this operation, 157 kB of additional disk space will be used.\n",
            "Get:1 http://archive.ubuntu.com/ubuntu bionic/universe amd64 netcat-traditional amd64 1.10-41.1 [61.7 kB]\n",
            "Get:2 http://archive.ubuntu.com/ubuntu bionic/universe amd64 netcat all 1.10-41.1 [3,436 B]\n",
            "Fetched 65.1 kB in 0s (506 kB/s)\n",
            "Selecting previously unselected package netcat-traditional.\n",
            "(Reading database ... 132702 files and directories currently installed.)\n",
            "Preparing to unpack .../netcat-traditional_1.10-41.1_amd64.deb ...\n",
            "Unpacking netcat-traditional (1.10-41.1) ...\n",
            "Selecting previously unselected package netcat.\n",
            "Preparing to unpack .../netcat_1.10-41.1_all.deb ...\n",
            "Unpacking netcat (1.10-41.1) ...\n",
            "Setting up netcat-traditional (1.10-41.1) ...\n",
            "update-alternatives: using /bin/nc.traditional to provide /bin/nc (nc) in auto mode\n",
            "Setting up netcat (1.10-41.1) ...\n",
            "Processing triggers for man-db (2.8.3-2ubuntu0.1) ...\n"
          ],
          "name": "stdout"
        }
      ]
    },
    {
      "cell_type": "markdown",
      "metadata": {
        "id": "f-NP2RX_KYqk",
        "colab_type": "text"
      },
      "source": [
        "Une requête web à la main..."
      ]
    },
    {
      "cell_type": "code",
      "metadata": {
        "id": "gLz7M20LKd0q",
        "colab_type": "code",
        "outputId": "7da57047-5134-4e3c-c21d-3cb7293b327f",
        "colab": {
          "base_uri": "https://localhost:8080/",
          "height": 547
        }
      },
      "source": [
        "! echo -e 'GET / HTTP/1.0\\r\\n\\r\\n' | netcat www.perdu.com 80"
      ],
      "execution_count": 0,
      "outputs": [
        {
          "output_type": "stream",
          "text": [
            "HTTP/1.1 200 OK\r\n",
            "Date: Wed, 13 Nov 2019 00:43:22 GMT\r\n",
            "Server: Apache\r\n",
            "Upgrade: h2\r\n",
            "Connection: Upgrade, close\r\n",
            "Last-Modified: Tue, 02 Jul 2019 17:07:40 GMT\r\n",
            "ETag: \"39e-58cb5c83d8f00\"\r\n",
            "Accept-Ranges: bytes\r\n",
            "Content-Length: 926\r\n",
            "Content-Type: text/html\r\n",
            "\r\n",
            "<!doctype html>\n",
            "<html>\n",
            "<head>\n",
            "        <title>Site not found &middot; DreamHost</title>\n",
            "        <meta http-equiv=\"cache-control\" content=\"no-cache\" />\n",
            "        <meta name=\"description\" content=\"The owner of this domain has not yet uploaded their website.\" />\n",
            "        <link rel=\"stylesheet\" href=\"//d1a6zytsvzb7ig.cloudfront.net/newpanel/css/singlepage.css\" />\n",
            "</head>\n",
            "<body>\n",
            "        <div class=\"page page-missing\">\n",
            "                <h1>Site Not Found</h1>\n",
            "\n",
            "                <p>Well, this is awkward. The site you're looking for is not here.</p>\n",
            "                <p><small>Is this your site? <a href=\"https://help.dreamhost.com/hc/en-us/articles/215613517\" rel=\"nofollow\">Get more info</a> or <a href=\"https://panel.dreamhost.com/index.cgi?tree=support.msg\" rel=\"nofollow\">contact support</a>.</small></p>\n",
            "\n",
            "                <a href=\"http://www.dreamhost.com/\" class=\"logo\" rel=\"nofollow\">DreamHost</a>\n",
            "        </div>\n",
            "</body>\n",
            "</html>\n"
          ],
          "name": "stdout"
        }
      ]
    },
    {
      "cell_type": "markdown",
      "metadata": {
        "id": "sSuzU2jjHU7T",
        "colab_type": "text"
      },
      "source": [
        "## Le Module socket en Python3\n",
        "\n",
        "=> https://docs.python.org/3.7/library/socket"
      ]
    },
    {
      "cell_type": "code",
      "metadata": {
        "id": "d07gOqPUHZMe",
        "colab_type": "code",
        "colab": {}
      },
      "source": [
        "import socket"
      ],
      "execution_count": 0,
      "outputs": []
    },
    {
      "cell_type": "markdown",
      "metadata": {
        "id": "z8Xm0rkb53C0",
        "colab_type": "text"
      },
      "source": [
        "## String versus Byte-Array \n",
        "\n",
        "Les fonctions send()/recv() du module *socket* ne manipulent pas des string *classiques*, mais des byte-array !"
      ]
    },
    {
      "cell_type": "code",
      "metadata": {
        "id": "f3nB9cxczlfw",
        "colab_type": "code",
        "outputId": "a7e4fd7e-ebc1-4c43-ca5e-190fa7100470",
        "colab": {
          "base_uri": "https://localhost:8080/",
          "height": 51
        }
      },
      "source": [
        "s0 = \"coucou\"           # string object       \n",
        "b0 = b\"coucou\"          # byte array (notez le prefixe b)\n",
        "b1 = s0.encode()        # convert string to byte array\n",
        "s1 = b0.decode()        # convert byte array to string (utf-8 encoding)\n",
        "print(\"s0 =\", s0)\n",
        "print(\"b0 =\", b0)"
      ],
      "execution_count": 0,
      "outputs": [
        {
          "output_type": "stream",
          "text": [
            "s0 = coucou\n",
            "b0 = b'coucou'\n"
          ],
          "name": "stdout"
        }
      ]
    },
    {
      "cell_type": "markdown",
      "metadata": {
        "id": "rsEUJAmI0BgX",
        "colab_type": "text"
      },
      "source": [
        "## Client HTTP 1.0\n",
        "\n",
        "Pas facile de trouver encore des sites webs qui font du HTTP 1.0... Notez le message d'erreur !"
      ]
    },
    {
      "cell_type": "code",
      "metadata": {
        "id": "x7aN1k7ozxJr",
        "colab_type": "code",
        "outputId": "3ec626d9-4fb5-4cb8-b55c-c3c4a3793bce",
        "colab": {
          "base_uri": "https://localhost:8080/",
          "height": 462
        }
      },
      "source": [
        "HOST = b'www.perdu.com'\n",
        "PORT = 80\n",
        "s = socket.socket(socket.AF_INET, socket.SOCK_STREAM)\n",
        "s.connect((HOST, PORT))\n",
        "request = b'GET / HTTP/1.0\\r\\n\\r\\n'\n",
        "s.sendall(request)\n",
        "answer = s.recv(1024)\n",
        "print(answer.decode())\n",
        "s.close()"
      ],
      "execution_count": 0,
      "outputs": [
        {
          "output_type": "stream",
          "text": [
            "HTTP/1.1 200 OK\r\n",
            "Date: Tue, 12 Nov 2019 23:32:01 GMT\r\n",
            "Server: Apache\r\n",
            "Upgrade: h2\r\n",
            "Connection: Upgrade, close\r\n",
            "Last-Modified: Tue, 02 Jul 2019 17:07:40 GMT\r\n",
            "ETag: \"39e-58cb5c83d8f00\"\r\n",
            "Accept-Ranges: bytes\r\n",
            "Content-Length: 926\r\n",
            "Content-Type: text/html\r\n",
            "\r\n",
            "<!doctype html>\n",
            "<html>\n",
            "<head>\n",
            "        <title>Site not found &middot; DreamHost</title>\n",
            "        <meta http-equiv=\"cache-control\" content=\"no-cache\" />\n",
            "        <meta name=\"description\" content=\"The owner of this domain has not yet uploaded their website.\" />\n",
            "        <link rel=\"stylesheet\" href=\"//d1a6zytsvzb7ig.cloudfront.net/newpanel/css/singlepage.css\" />\n",
            "</head>\n",
            "<body>\n",
            "        <div class=\"page page-missing\">\n",
            "                <h1>Site Not Found</h1>\n",
            "\n",
            "                <p>Well, this is awkward. The site you're looking for is not here.</p>\n",
            "                <p><small>Is this your site? <a href=\"https://help.dreamhost.com/hc/en-us/articles/215613517\" rel=\"nofollow\">Get more info</a> or <a href=\"https://panel.dreamhost.com/index.cgi?tree=support.msg\" rel=\"nofollow\">con\n"
          ],
          "name": "stdout"
        }
      ]
    },
    {
      "cell_type": "markdown",
      "metadata": {
        "id": "pfh8o8Gj1TZB",
        "colab_type": "text"
      },
      "source": [
        "## Client HTTP 1.1\n",
        "\n",
        "Dans sa version HTTP 1.1, il est necessaire de préciser le champs **Host** dans l'entête de la requête HTTP. De plus, il est utile de mettre le champs **Connection** à la valeur **close** afin de forcer a fermeture de la connexion TCP/IP, à la fin de la réponse. Voici donc comment préparer une requête HTTP vers le serveur web www.perdu.com (port 80) :"
      ]
    },
    {
      "cell_type": "code",
      "metadata": {
        "id": "Lx68gLpO1XnL",
        "colab_type": "code",
        "outputId": "52e52c7b-dac1-4556-d77e-c88af0e32659",
        "colab": {
          "base_uri": "https://localhost:8080/",
          "height": 102
        }
      },
      "source": [
        "HOST = b'www.perdu.com'\n",
        "PORT = 80\n",
        "s = socket.socket(socket.AF_INET, socket.SOCK_STREAM)\n",
        "s.connect((HOST, PORT))\n",
        "request = b'GET / HTTP/1.1\\r\\n'\n",
        "request += b'Host: ' + HOST + b'\\r\\n'\n",
        "request += b'Connection: close\\r\\n'\n",
        "request += b'\\r\\n'\n",
        "print(request.decode())\n"
      ],
      "execution_count": 0,
      "outputs": [
        {
          "output_type": "stream",
          "text": [
            "GET / HTTP/1.1\r\n",
            "Host: www.perdu.com\r\n",
            "Connection: close\r\n",
            "\r\n",
            "\n"
          ],
          "name": "stdout"
        }
      ]
    },
    {
      "cell_type": "markdown",
      "metadata": {
        "id": "hEfXAba39P8M",
        "colab_type": "text"
      },
      "source": [
        "Envoyer la requête et recevoir les 1024 premiers caractères de la réponse..."
      ]
    },
    {
      "cell_type": "code",
      "metadata": {
        "id": "rrXKnPi-9NuV",
        "colab_type": "code",
        "outputId": "9c689cd3-bff9-46fa-e795-204942ed1fc1",
        "colab": {
          "base_uri": "https://localhost:8080/",
          "height": 34
        }
      },
      "source": [
        "s.sendall(request)\n",
        "answer = s.recv(1024)\n",
        "print(answer.decode())\n",
        "s.close()\n"
      ],
      "execution_count": 0,
      "outputs": [
        {
          "output_type": "stream",
          "text": [
            "\n"
          ],
          "name": "stdout"
        }
      ]
    },
    {
      "cell_type": "markdown",
      "metadata": {
        "id": "Mwbuu19eGwKU",
        "colab_type": "text"
      },
      "source": [
        "Si l'on souhaite recevoir une réponse de taille variable, il faut \"boucler\" jusqu'à recevoir une réponse vide (caractéristique de la fermeture de connexion du serveur)."
      ]
    },
    {
      "cell_type": "code",
      "metadata": {
        "id": "5Duq68SF4SwK",
        "colab_type": "code",
        "outputId": "a8efc0f2-b40a-4b3a-c3b8-51042ad878a9",
        "colab": {
          "base_uri": "https://localhost:8080/",
          "height": 238
        }
      },
      "source": [
        "s.sendall(request)\n",
        "\n",
        "while True:\n",
        "    answer = s.recv(1024)\n",
        "    if answer == b'': break\n",
        "    print(answer.decode('utf-8'), end='')\n",
        "\n",
        "s.close()\n"
      ],
      "execution_count": 0,
      "outputs": [
        {
          "output_type": "stream",
          "text": [
            "HTTP/1.1 200 OK\r\n",
            "Date: Tue, 12 Nov 2019 23:47:09 GMT\r\n",
            "Server: Apache\r\n",
            "Upgrade: h2\r\n",
            "Connection: Upgrade, close\r\n",
            "Last-Modified: Thu, 02 Jun 2016 06:01:08 GMT\r\n",
            "ETag: \"cc-5344555136fe9\"\r\n",
            "Accept-Ranges: bytes\r\n",
            "Content-Length: 204\r\n",
            "Vary: Accept-Encoding\r\n",
            "Content-Type: text/html\r\n",
            "\r\n",
            "<html><head><title>Vous Etes Perdu ?</title></head><body><h1>Perdu sur l'Internet ?</h1><h2>Pas de panique, on va vous aider</h2><strong><pre>    * <----- vous &ecirc;tes ici</pre></strong></body></html>\n"
          ],
          "name": "stdout"
        }
      ]
    },
    {
      "cell_type": "code",
      "metadata": {
        "id": "-kNNzIV9HMSC",
        "colab_type": "code",
        "colab": {}
      },
      "source": [
        ""
      ],
      "execution_count": 0,
      "outputs": []
    },
    {
      "cell_type": "markdown",
      "metadata": {
        "id": "xnTs02-gODbF",
        "colab_type": "text"
      },
      "source": [
        "## Client & Serveur \n",
        "\n",
        "**todo**"
      ]
    }
  ]
}